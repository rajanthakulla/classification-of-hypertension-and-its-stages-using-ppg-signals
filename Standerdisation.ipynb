{
 "cells": [
  {
   "cell_type": "code",
   "execution_count": 2,
   "id": "2f4946ce",
   "metadata": {},
   "outputs": [
    {
     "name": "stdout",
     "output_type": "stream",
     "text": [
      "Standardization complete and data saved to C:\\Users\\divgy\\Desktop\\Rajan Thakulla\\standardised_dataset.csv\n"
     ]
    }
   ],
   "source": [
    "import pandas as pd\n",
    "from sklearn.preprocessing import StandardScaler\n",
    "\n",
    "# Load the dataset\n",
    "file_path = r\"C:\\Users\\divgy\\Desktop\\Rajan Thakulla\\upsample_data_set.csv\"\n",
    "data = pd.read_csv(file_path)\n",
    "\n",
    "# Separate the features and the labels\n",
    "X = data.iloc[:, :-1]  # all columns except the last one\n",
    "y = data.iloc[:, -1]   # the last column\n",
    "\n",
    "# Standardize the features\n",
    "scaler = StandardScaler()\n",
    "X_standardized = scaler.fit_transform(X)\n",
    "\n",
    "# Combine the standardized features and the labels into a single DataFrame\n",
    "standardized_data = pd.DataFrame(X_standardized, columns=data.columns[:-1])\n",
    "standardized_data['label'] = y.values\n",
    "\n",
    "# Save the standardized dataset to a new CSV file\n",
    "output_file_path = r\"C:\\Users\\divgy\\Desktop\\Rajan Thakulla\\standardised_dataset.csv\"\n",
    "standardized_data.to_csv(output_file_path, index=False)\n",
    "\n",
    "print(f'Standardization complete and data saved to {output_file_path}')\n"
   ]
  },
  {
   "cell_type": "code",
   "execution_count": null,
   "id": "9ab4f919",
   "metadata": {},
   "outputs": [],
   "source": []
  }
 ],
 "metadata": {
  "kernelspec": {
   "display_name": "Python 3 (ipykernel)",
   "language": "python",
   "name": "python3"
  },
  "language_info": {
   "codemirror_mode": {
    "name": "ipython",
    "version": 3
   },
   "file_extension": ".py",
   "mimetype": "text/x-python",
   "name": "python",
   "nbconvert_exporter": "python",
   "pygments_lexer": "ipython3",
   "version": "3.10.9"
  }
 },
 "nbformat": 4,
 "nbformat_minor": 5
}
